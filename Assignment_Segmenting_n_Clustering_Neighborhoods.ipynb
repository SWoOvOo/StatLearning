{
 "cells": [
  {
   "cell_type": "code",
   "execution_count": 11,
   "metadata": {},
   "outputs": [
    {
     "name": "stdout",
     "output_type": "stream",
     "text": [
      "Requirement already satisfied: beautifulsoup4 in /home/jupyterlab/conda/envs/python/lib/python3.6/site-packages (4.9.1)\n",
      "Requirement already satisfied: soupsieve>1.2 in /home/jupyterlab/conda/envs/python/lib/python3.6/site-packages (from beautifulsoup4) (2.0.1)\n",
      "Note: you may need to restart the kernel to use updated packages.\n"
     ]
    }
   ],
   "source": [
    "pip install beautifulsoup4"
   ]
  },
  {
   "cell_type": "code",
   "execution_count": 12,
   "metadata": {},
   "outputs": [
    {
     "name": "stdout",
     "output_type": "stream",
     "text": [
      "Requirement already satisfied: lxml in /home/jupyterlab/conda/envs/python/lib/python3.6/site-packages (4.5.0)\n",
      "Note: you may need to restart the kernel to use updated packages.\n"
     ]
    }
   ],
   "source": [
    "pip install lxml"
   ]
  },
  {
   "cell_type": "code",
   "execution_count": 2,
   "metadata": {},
   "outputs": [],
   "source": [
    "#%%\n",
    "#import packages\n",
    "import pandas as pd\n",
    "from bs4 import BeautifulSoup\n",
    "import requests\n",
    "\n",
    "#%%\n",
    "url = 'https://en.wikipedia.org/wiki/List_of_postal_codes_of_Canada:_M'\n",
    "r = requests.get(url)\n",
    "\n",
    "#%%\n",
    "bs = BeautifulSoup(r.text, 'lxml')\n",
    "table = bs.findAll('tbody')\n",
    "\n",
    "#%%\n",
    "#get table\n",
    "t = table[0]\n",
    "\n",
    "#%%\n",
    "#build list for the table\n",
    "table_cont = []\n",
    "#get table head\n",
    "thead = t.findAll('th')\n",
    "head = []\n",
    "for h in thead: head.append(h.text.replace('\\n',''))\n",
    "#get table content\n",
    "trow = t.findAll('tr')\n",
    "for i in range(len(trow)):\n",
    "    r1 = trow[i].findAll('td')\n",
    "    rc = []\n",
    "    for element in r1:\n",
    "        rc.append(element.text.replace('\\n',''))\n",
    "    table_cont.append(rc)\n",
    "#change list to dataframe\n",
    "df_table = pd.DataFrame(data = table_cont, columns = head)\n",
    "#dataframe wrangling\n",
    "df_table.dropna(axis=0, how = 'all', inplace = True)\n",
    "df_table = df_table[df_table['Borough']!='Not assigned']\n",
    "df_table.reset_index(drop = True, inplace = True)"
   ]
  },
  {
   "cell_type": "code",
   "execution_count": 5,
   "metadata": {},
   "outputs": [
    {
     "name": "stdout",
     "output_type": "stream",
     "text": [
      "  Postal Code           Borough                                 Neighborhood\n",
      "0         M3A        North York                                    Parkwoods\n",
      "1         M4A        North York                             Victoria Village\n",
      "2         M5A  Downtown Toronto                    Regent Park, Harbourfront\n",
      "3         M6A        North York             Lawrence Manor, Lawrence Heights\n",
      "4         M7A  Downtown Toronto  Queen's Park, Ontario Provincial Government\n",
      "5         M9A         Etobicoke                             Islington Avenue\n",
      "6         M1B       Scarborough                               Malvern, Rouge\n",
      "7         M3B        North York                                    Don Mills\n",
      "8         M4B         East York              Parkview Hill, Woodbine Gardens\n",
      "9         M5B  Downtown Toronto                     Garden District, Ryerson \n",
      "\n",
      " Shape: (103, 3)\n"
     ]
    }
   ],
   "source": [
    "#showing results\n",
    "print(df_table.head(10),'\\n\\n','Shape:',df_table.shape)"
   ]
  }
 ],
 "metadata": {
  "kernelspec": {
   "display_name": "Python",
   "language": "python",
   "name": "conda-env-python-py"
  },
  "language_info": {
   "codemirror_mode": {
    "name": "ipython",
    "version": 3
   },
   "file_extension": ".py",
   "mimetype": "text/x-python",
   "name": "python",
   "nbconvert_exporter": "python",
   "pygments_lexer": "ipython3",
   "version": "3.6.10"
  }
 },
 "nbformat": 4,
 "nbformat_minor": 4
}
