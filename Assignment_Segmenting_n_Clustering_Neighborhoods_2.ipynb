{
 "cells": [
  {
   "cell_type": "code",
   "execution_count": 3,
   "metadata": {},
   "outputs": [
    {
     "name": "stdout",
     "output_type": "stream",
     "text": [
      "Collecting beautifulsoup4\n",
      "\u001b[?25l  Downloading https://files.pythonhosted.org/packages/66/25/ff030e2437265616a1e9b25ccc864e0371a0bc3adb7c5a404fd661c6f4f6/beautifulsoup4-4.9.1-py3-none-any.whl (115kB)\n",
      "\u001b[K     |████████████████████████████████| 122kB 8.8MB/s eta 0:00:01\n",
      "\u001b[?25hCollecting soupsieve>1.2 (from beautifulsoup4)\n",
      "  Downloading https://files.pythonhosted.org/packages/6f/8f/457f4a5390eeae1cc3aeab89deb7724c965be841ffca6cfca9197482e470/soupsieve-2.0.1-py3-none-any.whl\n",
      "Installing collected packages: soupsieve, beautifulsoup4\n",
      "Successfully installed beautifulsoup4-4.9.1 soupsieve-2.0.1\n",
      "Note: you may need to restart the kernel to use updated packages.\n"
     ]
    }
   ],
   "source": [
    "pip install beautifulsoup4"
   ]
  },
  {
   "cell_type": "code",
   "execution_count": 4,
   "metadata": {},
   "outputs": [
    {
     "name": "stdout",
     "output_type": "stream",
     "text": [
      "Collecting lxml\n",
      "\u001b[?25l  Downloading https://files.pythonhosted.org/packages/55/6f/c87dffdd88a54dd26a3a9fef1d14b6384a9933c455c54ce3ca7d64a84c88/lxml-4.5.1-cp36-cp36m-manylinux1_x86_64.whl (5.5MB)\n",
      "\u001b[K     |████████████████████████████████| 5.5MB 20.8MB/s eta 0:00:01\n",
      "\u001b[?25hInstalling collected packages: lxml\n",
      "Successfully installed lxml-4.5.1\n",
      "Note: you may need to restart the kernel to use updated packages.\n"
     ]
    }
   ],
   "source": [
    "pip install lxml"
   ]
  },
  {
   "cell_type": "code",
   "execution_count": 1,
   "metadata": {},
   "outputs": [],
   "source": [
    "#%%\n",
    "#import packages\n",
    "import pandas as pd\n",
    "from bs4 import BeautifulSoup\n",
    "import requests"
   ]
  },
  {
   "cell_type": "code",
   "execution_count": 3,
   "metadata": {},
   "outputs": [],
   "source": [
    "#%%\n",
    "url = 'https://en.wikipedia.org/wiki/List_of_postal_codes_of_Canada:_M'\n",
    "r = requests.get(url)\n",
    "\n",
    "#%%\n",
    "bs = BeautifulSoup(r.text, 'lxml')\n",
    "table = bs.findAll('tbody')\n",
    "\n",
    "#%%\n",
    "#get table\n",
    "t = table[0]\n",
    "\n",
    "#%%\n",
    "#build list for the table\n",
    "table_cont = []\n",
    "#get table head\n",
    "thead = t.findAll('th')\n",
    "head = []\n",
    "for h in thead: head.append(h.text.replace('\\n',''))\n",
    "#get table content\n",
    "trow = t.findAll('tr')\n",
    "for i in range(len(trow)):\n",
    "    r1 = trow[i].findAll('td')\n",
    "    rc = []\n",
    "    for element in r1:\n",
    "        rc.append(element.text.replace('\\n',''))\n",
    "    table_cont.append(rc)\n",
    "#change list to dataframe\n",
    "df_table = pd.DataFrame(data = table_cont, columns = head)\n",
    "#dataframe wrangling\n",
    "df_table.dropna(axis=0, how = 'all', inplace = True)\n",
    "df_table = df_table[df_table['Borough']!='Not assigned']\n",
    "df_table.reset_index(drop = True, inplace = True)"
   ]
  },
  {
   "cell_type": "code",
   "execution_count": null,
   "metadata": {},
   "outputs": [],
   "source": [
    "#showing results\n",
    "print(df_table.head(10),'\\n\\n','Shape:',df_table.shape)"
   ]
  },
  {
   "cell_type": "code",
   "execution_count": 4,
   "metadata": {},
   "outputs": [],
   "source": [
    "#Read coordinates\n",
    "df_coord = pd.read_csv('https://cocl.us/Geospatial_data/Geospatial_Coordinates.csv')\n",
    "df_ctab = df_table.merge(df_coord,left_on='Postal Code',right_on='Postal Code',how='left',suffixes=('_l','_r'))"
   ]
  },
  {
   "cell_type": "code",
   "execution_count": 5,
   "metadata": {},
   "outputs": [
    {
     "name": "stdout",
     "output_type": "stream",
     "text": [
      "  Postal Code           Borough                                 Neighborhood  \\\n",
      "0         M3A        North York                                    Parkwoods   \n",
      "1         M4A        North York                             Victoria Village   \n",
      "2         M5A  Downtown Toronto                    Regent Park, Harbourfront   \n",
      "3         M6A        North York             Lawrence Manor, Lawrence Heights   \n",
      "4         M7A  Downtown Toronto  Queen's Park, Ontario Provincial Government   \n",
      "5         M9A         Etobicoke                             Islington Avenue   \n",
      "6         M1B       Scarborough                               Malvern, Rouge   \n",
      "7         M3B        North York                                    Don Mills   \n",
      "8         M4B         East York              Parkview Hill, Woodbine Gardens   \n",
      "9         M5B  Downtown Toronto                     Garden District, Ryerson   \n",
      "\n",
      "    Latitude  Longitude  \n",
      "0  43.753259 -79.329656  \n",
      "1  43.725882 -79.315572  \n",
      "2  43.654260 -79.360636  \n",
      "3  43.718518 -79.464763  \n",
      "4  43.662301 -79.389494  \n",
      "5  43.667856 -79.532242  \n",
      "6  43.806686 -79.194353  \n",
      "7  43.745906 -79.352188  \n",
      "8  43.706397 -79.309937  \n",
      "9  43.657162 -79.378937   \n",
      "\n",
      " Shape: (103, 5)\n"
     ]
    }
   ],
   "source": [
    "#showing results 2\n",
    "print(df_ctab.head(10),'\\n\\n','Shape:',df_ctab.shape)"
   ]
  },
  {
   "cell_type": "code",
   "execution_count": null,
   "metadata": {},
   "outputs": [],
   "source": []
  }
 ],
 "metadata": {
  "kernelspec": {
   "display_name": "Python",
   "language": "python",
   "name": "conda-env-python-py"
  },
  "language_info": {
   "codemirror_mode": {
    "name": "ipython",
    "version": 3
   },
   "file_extension": ".py",
   "mimetype": "text/x-python",
   "name": "python",
   "nbconvert_exporter": "python",
   "pygments_lexer": "ipython3",
   "version": "3.6.10"
  }
 },
 "nbformat": 4,
 "nbformat_minor": 4
}
